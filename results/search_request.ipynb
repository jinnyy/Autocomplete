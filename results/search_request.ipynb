{
 "cells": [
  {
   "cell_type": "markdown",
   "metadata": {},
   "source": [
    "# 검색\n",
    "- counts의 field로 정렬\n",
    "- 상위 10개만 가져옴\n",
    "- 오타 수정(보정) 가능하게 설정\n",
    "- 인덱싱: 자소분리 토크나이저\n",
    "\n",
    "<br>"
   ]
  },
  {
   "cell_type": "code",
   "execution_count": 1,
   "metadata": {},
   "outputs": [],
   "source": [
    "import requests\n",
    "import json\n",
    "\n",
    "\n",
    "\n",
    "# 응답을 프린트하는 method\n",
    "def print_result(parsed_data):\n",
    "    for data in parsed_data['hits']['hits']:\n",
    "        print(data['_source']['name'])\n",
    "\n",
    "# 응답을 받아오는 method\n",
    "def get_response(body):\n",
    "    response = requests.get(URL, \n",
    "                        data= json.dumps(body),\n",
    "                        headers={\"Content-Type\": \"application/json\"}) \n",
    "\n",
    "    if(response.status_code==200):\n",
    "        data = response.text\n",
    "        parsed_data = json.loads(data)\n",
    "    else:\n",
    "        print(response.status_code)\n",
    "        print(response.json())\n",
    "    return parsed_data"
   ]
  },
  {
   "cell_type": "code",
   "execution_count": 2,
   "metadata": {},
   "outputs": [],
   "source": [
    "URL = 'http://106.10.42.5:9200/autocomplete_jaso/_search' \n",
    "body = {\n",
    "            \"sort\":[\n",
    "                {\"counts.default\":{\"order\":\"desc\"}},\n",
    "                \"_score\"\n",
    "            ],\n",
    "            \"size\":10,\n",
    "            \"query\": {\n",
    "                \"match\": {\n",
    "                  \"name\": {\n",
    "                      \"query\": \"검색어\",\n",
    "                      \"fuzziness\":\"AUTO\"\n",
    "                  }\n",
    "                }\n",
    "              }\n",
    "            }"
   ]
  },
  {
   "cell_type": "markdown",
   "metadata": {},
   "source": [
    "참고: 구분선 위의 코드를 실행해야 아래의 코드가 실행됩니다.\n",
    "<hr>\n",
    "# 1) 지정하지 않았을 때\n",
    "### \"롱\"으로 검색"
   ]
  },
  {
   "cell_type": "code",
   "execution_count": 5,
   "metadata": {},
   "outputs": [],
   "source": [
    "body['query']['match']['name']['query'] = \"롱\"\n",
    "parsed_data = get_response(body)"
   ]
  },
  {
   "cell_type": "markdown",
   "metadata": {},
   "source": [
    "#### 결과\n",
    "- \"롱\"패딩 등의 단어가 검색됨\n",
    "- \"공\"기 청정기도 검색됨"
   ]
  },
  {
   "cell_type": "code",
   "execution_count": 6,
   "metadata": {
    "scrolled": false
   },
   "outputs": [
    {
     "name": "stdout",
     "output_type": "stream",
     "text": [
      "롱패딩\n",
      "키즈 롱패딩\n",
      "롱원피스\n",
      "디스커버리 롱패딩\n",
      "롱코트\n",
      "롱부츠\n",
      "롱무스탕\n",
      "공기청정기\n",
      "여성 롱패딩\n",
      "롱스커트\n"
     ]
    }
   ],
   "source": [
    "print_result(parsed_data)"
   ]
  },
  {
   "cell_type": "markdown",
   "metadata": {},
   "source": [
    "### \"ㅍㄷ\"를 검색"
   ]
  },
  {
   "cell_type": "code",
   "execution_count": 7,
   "metadata": {},
   "outputs": [],
   "source": [
    "body['query']['match']['name']['query'] = \"ㅍㄷ\"\n",
    "parsed_data = get_response(body)"
   ]
  },
  {
   "cell_type": "markdown",
   "metadata": {},
   "source": [
    "#### 결과\n",
    "- \"ㅍㄷ\"이 포함되는 단어가 검색됨\n",
    "- 오타 수정의 여지는 없는 것 같음"
   ]
  },
  {
   "cell_type": "code",
   "execution_count": 8,
   "metadata": {
    "scrolled": true
   },
   "outputs": [
    {
     "name": "stdout",
     "output_type": "stream",
     "text": [
      "패딩\n",
      "패딩조끼\n",
      "패딩부츠\n",
      "패딩우주복\n",
      "패딩슬립온\n",
      "패딩점퍼\n",
      "패딩바지\n",
      "패딩코트\n",
      "펜디가방\n",
      "패딩베스트\n"
     ]
    }
   ],
   "source": [
    "print_result(parsed_data)"
   ]
  },
  {
   "cell_type": "markdown",
   "metadata": {},
   "source": [
    "### \"패딩\"을 \"페딩\"으로 오타낸 것으로 가정"
   ]
  },
  {
   "cell_type": "code",
   "execution_count": 13,
   "metadata": {},
   "outputs": [],
   "source": [
    "body['query']['match']['name']['query'] = \"페딩\"\n",
    "parsed_data = get_response(body)"
   ]
  },
  {
   "cell_type": "markdown",
   "metadata": {},
   "source": [
    "#### 결과\n",
    "- \"패딩\"으로 수정되어 검색됨을 알 수 있음"
   ]
  },
  {
   "cell_type": "code",
   "execution_count": 14,
   "metadata": {},
   "outputs": [
    {
     "name": "stdout",
     "output_type": "stream",
     "text": [
      "패딩\n",
      "패딩조끼\n",
      "여성 패딩\n",
      "롱 패딩\n",
      "k2 패딩\n",
      "패딩부츠\n",
      "패딩코트\n",
      "아이더 패딩\n",
      "웰론 패딩\n",
      "뉴발란스 패딩\n"
     ]
    }
   ],
   "source": [
    "print_result(parsed_data)"
   ]
  },
  {
   "cell_type": "markdown",
   "metadata": {},
   "source": [
    "### 한/영 오타를 낸 것으로 가정"
   ]
  },
  {
   "cell_type": "code",
   "execution_count": 9,
   "metadata": {},
   "outputs": [],
   "source": [
    "body['query']['match']['name']['query'] = \"voeld\"\n",
    "parsed_data = get_response(body)"
   ]
  },
  {
   "cell_type": "markdown",
   "metadata": {},
   "source": [
    "#### 결과\n",
    "- \"패딩\"을 검색한 것처럼 검색이 됨"
   ]
  },
  {
   "cell_type": "code",
   "execution_count": 10,
   "metadata": {},
   "outputs": [
    {
     "name": "stdout",
     "output_type": "stream",
     "text": [
      "패딩\n",
      "패딩조끼\n",
      "디스커버리 패딩\n",
      "남자 패딩\n",
      "아이더 패딩\n",
      "키즈 패딩\n",
      "노스페이스 패딩\n",
      "여성 패딩\n",
      "남자 패딩코트\n",
      "k2 패딩\n"
     ]
    }
   ],
   "source": [
    "print_result(parsed_data)"
   ]
  },
  {
   "cell_type": "markdown",
   "metadata": {},
   "source": [
    "- 실제로 \"패딩\"을 검색한 것과 비교 (같은 결과)"
   ]
  },
  {
   "cell_type": "code",
   "execution_count": 11,
   "metadata": {},
   "outputs": [
    {
     "name": "stdout",
     "output_type": "stream",
     "text": [
      "패딩\n",
      "패딩조끼\n",
      "디스커버리 패딩\n",
      "남자 패딩\n",
      "아이더 패딩\n",
      "키즈 패딩\n",
      "노스페이스 패딩\n",
      "여성 패딩\n",
      "남자 패딩코트\n",
      "k2 패딩\n"
     ]
    }
   ],
   "source": [
    "body['query']['match']['name']['query'] = \"패딩\"\n",
    "parsed_data = get_response(body)\n",
    "print_result(parsed_data)"
   ]
  },
  {
   "cell_type": "markdown",
   "metadata": {},
   "source": [
    "<hr>\n",
    "# 2) 성별, 나이대 지정"
   ]
  },
  {
   "cell_type": "code",
   "execution_count": 6,
   "metadata": {
    "scrolled": true
   },
   "outputs": [
    {
     "name": "stdout",
     "output_type": "stream",
     "text": [
      "성별(f/m or 남/여): 여\n",
      "나이(ex: 20세-->20): 24\n",
      "검색어를 입력하세요: 쳌크\n",
      "===============================\n",
      "체크코트\n",
      "체크스커트\n",
      "체크원피스\n",
      "체크자켓\n",
      "체크 스커트\n",
      "체크 핸드메이드 코트\n",
      "체크 머플러\n",
      "체크롱스커트\n",
      "체크머플러\n",
      "남자 체크 코트\n"
     ]
    }
   ],
   "source": [
    "while True:\n",
    "    gender = input(\"성별(f/m or 남/여): \")\n",
    "    if gender==\"여\":\n",
    "        gender = \"f\"\n",
    "    elif gender==\"남\":\n",
    "        gender = \"m\"\n",
    "    if gender==\"f\" or gender==\"m\":\n",
    "        break\n",
    "    else:\n",
    "        print(\"다시 입력해 주세요\")\n",
    "\n",
    "while True:\n",
    "    age = input(\"나이(ex: 20세-->20): \")\n",
    "    # 10세 미만일 시 10대와 동일시\n",
    "    if int(age)<10:\n",
    "        age = \"10\"\n",
    "    # 50세 초과시 40대와 동일시\n",
    "    elif int(age)>50:\n",
    "        age = \"40\"\n",
    "    if age.isnumeric():\n",
    "        break\n",
    "    else:\n",
    "        print(\"숫자로 입력해주세요\")\n",
    "\n",
    "input_name = input(\"검색어를 입력하세요: \")\n",
    "\n",
    "\n",
    "\n",
    "body = {\n",
    "            \"sort\":[\n",
    "                {\"counts.\"+age[0]+gender:{\"order\":\"desc\"}},\n",
    "                \"_score\"\n",
    "            ],\n",
    "            \"size\":10,\n",
    "            \"query\": {\n",
    "                \"match\": {\n",
    "                  \"name\": {\n",
    "                      \"query\": input_name,\n",
    "                      \"fuzziness\":\"AUTO\"\n",
    "                  }\n",
    "                }\n",
    "              }\n",
    "            }\n",
    "\n",
    "response = requests.get(URL, \n",
    "                        data= json.dumps(body),\n",
    "                        headers={\"Content-Type\": \"application/json\"}) \n",
    "\n",
    "if(response.status_code==200):\n",
    "    data = response.text\n",
    "    parsed_data = json.loads(data)\n",
    "    print(\"===============================\")\n",
    "    print_result(parsed_data)\n",
    "else:\n",
    "    print(response.status_code)\n",
    "    print(response.json())"
   ]
  },
  {
   "cell_type": "code",
   "execution_count": 5,
   "metadata": {},
   "outputs": [
    {
     "name": "stdout",
     "output_type": "stream",
     "text": [
      "성별(f/m or 남/여): 여\n",
      "나이(ex: 20세-->20): 24\n",
      "검색어를 입력하세요: 닡트\n",
      "===============================\n",
      "니트\n",
      "니트원피스\n",
      "니트 원피스\n",
      "캐시미어 니트\n",
      "니트조끼\n",
      "니트 투피스\n",
      "니트스커트\n",
      "오프숄더 니트\n",
      "꽈배기 니트\n",
      "니트롱원피스\n"
     ]
    }
   ],
   "source": [
    "while True:\n",
    "    gender = input(\"성별(f/m or 남/여): \")\n",
    "    if gender==\"여\":\n",
    "        gender = \"f\"\n",
    "    elif gender==\"남\":\n",
    "        gender = \"m\"\n",
    "    if gender==\"f\" or gender==\"m\":\n",
    "        break\n",
    "    else:\n",
    "        print(\"다시 입력해 주세요\")\n",
    "\n",
    "while True:\n",
    "    age = input(\"나이(ex: 20세-->20): \")\n",
    "    # 10세 미만일 시 10대와 동일시\n",
    "    if int(age)<10:\n",
    "        age = \"10\"\n",
    "    # 50세 초과시 40대와 동일시\n",
    "    elif int(age)>50:\n",
    "        age = \"40\"\n",
    "    if age.isnumeric():\n",
    "        break\n",
    "    else:\n",
    "        print(\"숫자로 입력해주세요\")\n",
    "\n",
    "input_name = input(\"검색어를 입력하세요: \")\n",
    "\n",
    "\n",
    "\n",
    "body = {\n",
    "            \"sort\":[\n",
    "                {\"counts.\"+age[0]+gender:{\"order\":\"desc\"}},\n",
    "                \"_score\"\n",
    "            ],\n",
    "            \"size\":10,\n",
    "            \"query\": {\n",
    "                \"match\": {\n",
    "                  \"name\": {\n",
    "                      \"query\": input_name,\n",
    "                      \"fuzziness\":\"AUTO\"\n",
    "                  }\n",
    "                }\n",
    "              }\n",
    "            }\n",
    "\n",
    "response = requests.get(URL, \n",
    "                        data= json.dumps(body),\n",
    "                        headers={\"Content-Type\": \"application/json\"}) \n",
    "\n",
    "if(response.status_code==200):\n",
    "    data = response.text\n",
    "    parsed_data = json.loads(data)\n",
    "    print(\"===============================\")\n",
    "    print_result(parsed_data)\n",
    "else:\n",
    "    print(response.status_code)\n",
    "    print(response.json())"
   ]
  },
  {
   "cell_type": "code",
   "execution_count": null,
   "metadata": {},
   "outputs": [],
   "source": []
  }
 ],
 "metadata": {
  "kernelspec": {
   "display_name": "Python 3",
   "language": "python",
   "name": "python3"
  },
  "language_info": {
   "codemirror_mode": {
    "name": "ipython",
    "version": 3
   },
   "file_extension": ".py",
   "mimetype": "text/x-python",
   "name": "python",
   "nbconvert_exporter": "python",
   "pygments_lexer": "ipython3",
   "version": "3.6.5"
  }
 },
 "nbformat": 4,
 "nbformat_minor": 2
}
